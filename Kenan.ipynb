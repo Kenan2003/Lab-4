{
  "metadata": {
    "language_info": {
      "codemirror_mode": {
        "name": "python",
        "version": 3
      },
      "file_extension": ".py",
      "mimetype": "text/x-python",
      "name": "python",
      "nbconvert_exporter": "python",
      "pygments_lexer": "ipython3",
      "version": "3.8"
    },
    "kernelspec": {
      "name": "python",
      "display_name": "Python (Pyodide)",
      "language": "python"
    }
  },
  "nbformat_minor": 4,
  "nbformat": 4,
  "cells": [
    {
      "cell_type": "code",
      "source": "name =\"Kenan\"\nsurname =\"Allahverdiyev\"\nprint (name,surname)",
      "metadata": {
        "trusted": true
      },
      "execution_count": 1,
      "outputs": [
        {
          "name": "stdout",
          "text": "Kenan Allahverdiyev\n",
          "output_type": "stream"
        }
      ]
    },
    {
      "cell_type": "code",
      "source": "age =20\nbirthday =\"19.05.2003\"\nprint (age)\nprint (birthday)",
      "metadata": {
        "trusted": true
      },
      "execution_count": 3,
      "outputs": [
        {
          "name": "stdout",
          "text": "20\n19.05.2003\n",
          "output_type": "stream"
        }
      ]
    },
    {
      "cell_type": "code",
      "source": "qrup_220a2 =[ \"Kenan\", \"Resul\", \"Efsane\", \"Ruslan\"]\nprint(qrup_220a2)",
      "metadata": {
        "trusted": true
      },
      "execution_count": 8,
      "outputs": [
        {
          "name": "stdout",
          "text": "['Kenan', 'Resul', 'Efsane', 'Ruslan']\n",
          "output_type": "stream"
        }
      ]
    },
    {
      "cell_type": "code",
      "source": "x = qrup_220a2[1]\nprint(x)",
      "metadata": {
        "trusted": true
      },
      "execution_count": 5,
      "outputs": [
        {
          "name": "stdout",
          "text": "Resul\n",
          "output_type": "stream"
        }
      ]
    },
    {
      "cell_type": "code",
      "source": "qrup_220a2.pop(2)\nqrup_220a2.append(\"",
      "metadata": {
        "trusted": true
      },
      "execution_count": 6,
      "outputs": []
    },
    {
      "cell_type": "code",
      "source": "",
      "metadata": {
        "trusted": true
      },
      "execution_count": null,
      "outputs": []
    },
    {
      "cell_type": "code",
      "source": "",
      "metadata": {},
      "execution_count": null,
      "outputs": []
    }
  ]
}